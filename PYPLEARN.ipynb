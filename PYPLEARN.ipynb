{
  "nbformat": 4,
  "nbformat_minor": 0,
  "metadata": {
    "colab": {
      "provenance": [],
      "authorship_tag": "ABX9TyN1w0GuBwW5I42K3FFCps/+",
      "include_colab_link": true
    },
    "kernelspec": {
      "name": "python3",
      "display_name": "Python 3"
    },
    "language_info": {
      "name": "python"
    }
  },
  "cells": [
    {
      "cell_type": "markdown",
      "metadata": {
        "id": "view-in-github",
        "colab_type": "text"
      },
      "source": [
        "<a href=\"https://colab.research.google.com/github/tamantosawar/PYLEARN/blob/main/PYPLEARN.ipynb\" target=\"_parent\"><img src=\"https://colab.research.google.com/assets/colab-badge.svg\" alt=\"Open In Colab\"/></a>"
      ]
    },
    {
      "cell_type": "code",
      "execution_count": null,
      "metadata": {
        "id": "K_svF5wj5MRj"
      },
      "outputs": [],
      "source": [
        "seq=[1,2,3,4,5]"
      ]
    },
    {
      "cell_type": "code",
      "source": [
        "for jel in seq:\n",
        "  print(\"HEllo \",jel)"
      ],
      "metadata": {
        "colab": {
          "base_uri": "https://localhost:8080/"
        },
        "id": "C5_RfRewCpFu",
        "outputId": "b10c2bdc-e0ba-4d78-9517-53d8efb1379b"
      },
      "execution_count": null,
      "outputs": [
        {
          "output_type": "stream",
          "name": "stdout",
          "text": [
            "HEllo  1\n",
            "HEllo  2\n",
            "HEllo  3\n",
            "HEllo  4\n",
            "HEllo  5\n"
          ]
        }
      ]
    },
    {
      "cell_type": "code",
      "source": [
        "i=1\n",
        "while i<5:\n",
        "  i=i+1\n",
        "  print('i is : {}'.format(i))"
      ],
      "metadata": {
        "colab": {
          "base_uri": "https://localhost:8080/"
        },
        "id": "hOxnvKQaC6hT",
        "outputId": "f89282db-7d57-4735-c64e-f38234298483"
      },
      "execution_count": null,
      "outputs": [
        {
          "output_type": "stream",
          "name": "stdout",
          "text": [
            "i is : 2\n",
            "i is : 3\n",
            "i is : 4\n",
            "i is : 5\n"
          ]
        }
      ]
    },
    {
      "cell_type": "code",
      "source": [
        "for x in seq:\n",
        "  print(x)"
      ],
      "metadata": {
        "colab": {
          "base_uri": "https://localhost:8080/"
        },
        "id": "FtbK4pj6DR7k",
        "outputId": "2a6719c1-e6d1-4fca-da7a-e90cd517b32d"
      },
      "execution_count": null,
      "outputs": [
        {
          "output_type": "stream",
          "name": "stdout",
          "text": [
            "1\n",
            "2\n",
            "3\n",
            "4\n",
            "5\n"
          ]
        }
      ]
    },
    {
      "cell_type": "code",
      "source": [
        "range(0,9)"
      ],
      "metadata": {
        "colab": {
          "base_uri": "https://localhost:8080/"
        },
        "id": "bajg4ph6Dno3",
        "outputId": "777d761f-0f99-4ab7-8013-f3027e3e8acb"
      },
      "execution_count": null,
      "outputs": [
        {
          "output_type": "execute_result",
          "data": {
            "text/plain": [
              "range(0, 9)"
            ]
          },
          "metadata": {},
          "execution_count": 9
        }
      ]
    },
    {
      "cell_type": "code",
      "source": [
        "x=list(range(5,9))"
      ],
      "metadata": {
        "id": "3RxbxWaPDqya"
      },
      "execution_count": null,
      "outputs": []
    },
    {
      "cell_type": "code",
      "source": [
        "out =[]\n",
        "for n in x:\n",
        "  out.append(n**2)"
      ],
      "metadata": {
        "id": "GaHFYCM4DwZ5"
      },
      "execution_count": null,
      "outputs": []
    },
    {
      "cell_type": "code",
      "source": [
        "out"
      ],
      "metadata": {
        "colab": {
          "base_uri": "https://localhost:8080/"
        },
        "id": "8PGCY5qNGrKW",
        "outputId": "ecb6d4a6-6d5b-4353-ff36-8007bfe25bac"
      },
      "execution_count": null,
      "outputs": [
        {
          "output_type": "execute_result",
          "data": {
            "text/plain": [
              "[25, 36, 49, 64]"
            ]
          },
          "metadata": {},
          "execution_count": 17
        }
      ]
    },
    {
      "cell_type": "code",
      "source": [
        "List Comprehention"
      ],
      "metadata": {
        "id": "OzfuMWkEJRt6"
      },
      "execution_count": null,
      "outputs": []
    },
    {
      "cell_type": "code",
      "source": [
        "[num ** 2 for num in x]"
      ],
      "metadata": {
        "colab": {
          "base_uri": "https://localhost:8080/"
        },
        "id": "Z2vGN4IsGyJr",
        "outputId": "c26f7249-8d75-4219-a356-7d236c226140"
      },
      "execution_count": null,
      "outputs": [
        {
          "output_type": "execute_result",
          "data": {
            "text/plain": [
              "[25, 36, 49, 64]"
            ]
          },
          "metadata": {},
          "execution_count": 18
        }
      ]
    },
    {
      "cell_type": "code",
      "source": [
        "out=[num**2 for num in x]"
      ],
      "metadata": {
        "id": "O-C8faQ0JDFa"
      },
      "execution_count": null,
      "outputs": []
    },
    {
      "cell_type": "code",
      "source": [
        "out"
      ],
      "metadata": {
        "colab": {
          "base_uri": "https://localhost:8080/"
        },
        "id": "jmtr6aVkJNPz",
        "outputId": "e62e9d73-8617-4166-eac3-f3c9b969a822"
      },
      "execution_count": null,
      "outputs": [
        {
          "output_type": "execute_result",
          "data": {
            "text/plain": [
              "[25, 36, 49, 64]"
            ]
          },
          "metadata": {},
          "execution_count": 20
        }
      ]
    },
    {
      "cell_type": "code",
      "source": [
        "# function allow to not write same code again and again\n",
        "def fun(name=\"DEfault name\"):\n",
        "  print('HEllo '+name)"
      ],
      "metadata": {
        "id": "KamMRMXLJQWb"
      },
      "execution_count": null,
      "outputs": []
    },
    {
      "cell_type": "code",
      "source": [
        "def funR(num):\n",
        "  return num**3\n",
        "\n",
        "funR(8)"
      ],
      "metadata": {
        "colab": {
          "base_uri": "https://localhost:8080/"
        },
        "id": "ii1Q4fi3Kx98",
        "outputId": "8b70d037-5e04-435c-8e19-fa9f34370a8d"
      },
      "execution_count": null,
      "outputs": [
        {
          "output_type": "execute_result",
          "data": {
            "text/plain": [
              "512"
            ]
          },
          "metadata": {},
          "execution_count": 30
        }
      ]
    },
    {
      "cell_type": "code",
      "source": [
        "fun()"
      ],
      "metadata": {
        "colab": {
          "base_uri": "https://localhost:8080/"
        },
        "id": "q6jxjZsXJ1lu",
        "outputId": "e3b65fc9-2ea8-4ae9-8167-b5c9385fe110"
      },
      "execution_count": null,
      "outputs": [
        {
          "output_type": "stream",
          "name": "stdout",
          "text": [
            "HEllo DEfault name\n"
          ]
        }
      ]
    },
    {
      "cell_type": "code",
      "source": [
        "# docutmentation string for multiline comment\n"
      ],
      "metadata": {
        "id": "1Fpinar-J4Hm"
      },
      "execution_count": null,
      "outputs": []
    },
    {
      "cell_type": "code",
      "source": [
        "def f():\n",
        "  \"\"\" dfkd\n",
        "dkfdkfdk\n",
        "dfjfhdskf\n",
        "dfdksfsk\n",
        " \"\"\""
      ],
      "metadata": {
        "id": "aI_Wd2UoKsU3"
      },
      "execution_count": null,
      "outputs": []
    },
    {
      "cell_type": "code",
      "source": [
        "range"
      ],
      "metadata": {
        "colab": {
          "base_uri": "https://localhost:8080/"
        },
        "id": "a_7TJHYnLQPw",
        "outputId": "42d655f4-b918-45f0-81e8-fae9b4ff8273"
      },
      "execution_count": null,
      "outputs": [
        {
          "output_type": "execute_result",
          "data": {
            "text/plain": [
              "range"
            ]
          },
          "metadata": {},
          "execution_count": 33
        }
      ]
    },
    {
      "cell_type": "markdown",
      "source": [],
      "metadata": {
        "id": "jzLkZD8ZabZe"
      }
    },
    {
      "cell_type": "code",
      "source": [],
      "metadata": {
        "id": "bjjXRxoYLURH"
      },
      "execution_count": null,
      "outputs": []
    },
    {
      "cell_type": "markdown",
      "source": [
        "#map function - built in function  it executes a specified function for each item in an iterable.\n",
        "map(function , iterables)"
      ],
      "metadata": {
        "id": "TQFpX_1RXw38"
      }
    },
    {
      "cell_type": "code",
      "source": [
        "def myfunc(a):\n",
        "  return a**2"
      ],
      "metadata": {
        "id": "6qixq_npWD0x"
      },
      "execution_count": null,
      "outputs": []
    },
    {
      "cell_type": "code",
      "source": [
        "map(myfunc,(1,2,3),(5,6,7))"
      ],
      "metadata": {
        "colab": {
          "base_uri": "https://localhost:8080/"
        },
        "id": "amILeVRdYCOm",
        "outputId": "b491d6b3-f60b-4385-9866-e2c61f525bac"
      },
      "execution_count": null,
      "outputs": [
        {
          "output_type": "execute_result",
          "data": {
            "text/plain": [
              "<map at 0x7cb87c6028c0>"
            ]
          },
          "metadata": {},
          "execution_count": 4
        }
      ]
    },
    {
      "cell_type": "code",
      "source": [
        "list(map(myfunc,(1,2,3),(5,6,7)))"
      ],
      "metadata": {
        "colab": {
          "base_uri": "https://localhost:8080/"
        },
        "id": "GIbfQJjTihNv",
        "outputId": "c5b1ee5c-03e0-45d5-954a-becebc2d9fad"
      },
      "execution_count": null,
      "outputs": [
        {
          "output_type": "execute_result",
          "data": {
            "text/plain": [
              "[6, 8, 10]"
            ]
          },
          "metadata": {},
          "execution_count": 5
        }
      ]
    },
    {
      "cell_type": "code",
      "source": [
        "seq=[1,2,3,4,5,6,7,8]"
      ],
      "metadata": {
        "id": "XevqGXZmilKR"
      },
      "execution_count": null,
      "outputs": []
    },
    {
      "cell_type": "code",
      "source": [
        "list(map(myfunc,seq))"
      ],
      "metadata": {
        "colab": {
          "base_uri": "https://localhost:8080/"
        },
        "id": "q2TGZeOOi3gm",
        "outputId": "fe88f2e3-9fc4-4da1-ed39-51036d5d86d8"
      },
      "execution_count": null,
      "outputs": [
        {
          "output_type": "execute_result",
          "data": {
            "text/plain": [
              "[1, 4, 9, 16, 25, 36, 49, 64]"
            ]
          },
          "metadata": {},
          "execution_count": 9
        }
      ]
    },
    {
      "cell_type": "code",
      "source": [],
      "metadata": {
        "id": "8YlIdP5Ci6ai"
      },
      "execution_count": null,
      "outputs": []
    },
    {
      "cell_type": "markdown",
      "source": [
        "LAmbda Function is a small anonymous function\n",
        "can have any number of arguments but only one expression\n",
        "\n"
      ],
      "metadata": {
        "id": "PHrFvzK8kdwa"
      }
    },
    {
      "cell_type": "code",
      "source": [
        "t=lambda var: var**2"
      ],
      "metadata": {
        "id": "k_YB5Hilk4nZ"
      },
      "execution_count": null,
      "outputs": []
    },
    {
      "cell_type": "code",
      "source": [
        "t(4)"
      ],
      "metadata": {
        "colab": {
          "base_uri": "https://localhost:8080/"
        },
        "id": "zC8EWofrk-iy",
        "outputId": "00d1bca4-3c39-41f8-f207-09674776d463"
      },
      "execution_count": null,
      "outputs": [
        {
          "output_type": "execute_result",
          "data": {
            "text/plain": [
              "16"
            ]
          },
          "metadata": {},
          "execution_count": 13
        }
      ]
    },
    {
      "cell_type": "code",
      "source": [
        "# using lambda in MAP"
      ],
      "metadata": {
        "id": "Wzd7zxqklGeg"
      },
      "execution_count": null,
      "outputs": []
    },
    {
      "cell_type": "code",
      "source": [
        "list(map(lambda n:n**2,seq))"
      ],
      "metadata": {
        "colab": {
          "base_uri": "https://localhost:8080/"
        },
        "id": "yeskjhfglPRZ",
        "outputId": "2466cfd1-b794-41b3-bff2-2b4cb92d269c"
      },
      "execution_count": null,
      "outputs": [
        {
          "output_type": "execute_result",
          "data": {
            "text/plain": [
              "[1, 4, 9, 16, 25, 36, 49, 64]"
            ]
          },
          "metadata": {},
          "execution_count": 15
        }
      ]
    },
    {
      "cell_type": "code",
      "source": [],
      "metadata": {
        "id": "cx7NLBqal6Q_"
      },
      "execution_count": null,
      "outputs": []
    },
    {
      "cell_type": "markdown",
      "source": [
        "**Filter function\n",
        "filter out element from a sequence**\n",
        "filter(function or lamda expression ,sequence)\n",
        " work on boolean values  "
      ],
      "metadata": {
        "id": "qVVvV9i5oGN6"
      }
    },
    {
      "cell_type": "code",
      "source": [
        "list(filter(lambda n: n%2==0,seq))"
      ],
      "metadata": {
        "colab": {
          "base_uri": "https://localhost:8080/"
        },
        "id": "K6g-lzcIohZR",
        "outputId": "74b17947-1f15-4f77-9f28-6c909e8a6ea1"
      },
      "execution_count": null,
      "outputs": [
        {
          "output_type": "execute_result",
          "data": {
            "text/plain": [
              "[2, 4, 6, 8]"
            ]
          },
          "metadata": {},
          "execution_count": 17
        }
      ]
    },
    {
      "cell_type": "code",
      "source": [
        "s='HEllo My name is Taman'"
      ],
      "metadata": {
        "id": "0vl3lSUWow-4"
      },
      "execution_count": null,
      "outputs": []
    },
    {
      "cell_type": "code",
      "source": [
        "s.split('i') # split on particular element"
      ],
      "metadata": {
        "colab": {
          "base_uri": "https://localhost:8080/"
        },
        "id": "Qm5OXF_ppN9S",
        "outputId": "c6349729-3614-46ea-fed8-c1746c0a1534"
      },
      "execution_count": null,
      "outputs": [
        {
          "output_type": "execute_result",
          "data": {
            "text/plain": [
              "['HEllo My name ', 's Taman']"
            ]
          },
          "metadata": {},
          "execution_count": 25
        }
      ]
    },
    {
      "cell_type": "markdown",
      "source": [
        "Dictionary"
      ],
      "metadata": {
        "id": "JuIMiNsWpzmu"
      }
    },
    {
      "cell_type": "code",
      "source": [
        "d={'k1':1,'k2':2}"
      ],
      "metadata": {
        "id": "kfeFi7OGpS5Y"
      },
      "execution_count": null,
      "outputs": []
    },
    {
      "cell_type": "code",
      "source": [
        "d"
      ],
      "metadata": {
        "colab": {
          "base_uri": "https://localhost:8080/"
        },
        "id": "UxV6iZfmp3It",
        "outputId": "5a3f238d-4fd9-476a-9bd5-ddde3a7a9226"
      },
      "execution_count": null,
      "outputs": [
        {
          "output_type": "execute_result",
          "data": {
            "text/plain": [
              "{'k1': 1, 'k2': 2}"
            ]
          },
          "metadata": {},
          "execution_count": 27
        }
      ]
    },
    {
      "cell_type": "code",
      "source": [
        "d.keys()"
      ],
      "metadata": {
        "colab": {
          "base_uri": "https://localhost:8080/"
        },
        "id": "bjwvZXW6p4e9",
        "outputId": "776d16c8-6548-4920-8012-91660c20b454"
      },
      "execution_count": null,
      "outputs": [
        {
          "output_type": "execute_result",
          "data": {
            "text/plain": [
              "dict_keys(['k1', 'k2'])"
            ]
          },
          "metadata": {},
          "execution_count": 29
        }
      ]
    },
    {
      "cell_type": "code",
      "source": [
        "d.items()"
      ],
      "metadata": {
        "colab": {
          "base_uri": "https://localhost:8080/"
        },
        "id": "WIQG7t1sp93p",
        "outputId": "cc4b19b9-a523-4070-cdc3-5d7b56311690"
      },
      "execution_count": null,
      "outputs": [
        {
          "output_type": "execute_result",
          "data": {
            "text/plain": [
              "dict_items([('k1', 1), ('k2', 2)])"
            ]
          },
          "metadata": {},
          "execution_count": 30
        }
      ]
    },
    {
      "cell_type": "code",
      "source": [
        "d.values()"
      ],
      "metadata": {
        "colab": {
          "base_uri": "https://localhost:8080/"
        },
        "id": "c8I4FrNfqLRY",
        "outputId": "d9e2e763-4972-4fd8-e2ed-817b3aaf02b8"
      },
      "execution_count": null,
      "outputs": [
        {
          "output_type": "execute_result",
          "data": {
            "text/plain": [
              "dict_values([1, 2])"
            ]
          },
          "metadata": {},
          "execution_count": 31
        }
      ]
    },
    {
      "cell_type": "code",
      "source": [],
      "metadata": {
        "id": "YwbpDCn1qNHM"
      },
      "execution_count": null,
      "outputs": []
    },
    {
      "cell_type": "markdown",
      "source": [
        "**List **"
      ],
      "metadata": {
        "id": "XdtewWTFqeQO"
      }
    },
    {
      "cell_type": "code",
      "source": [
        "lst=[1,2,3,4,5]"
      ],
      "metadata": {
        "id": "s-0nTnV6qg87"
      },
      "execution_count": null,
      "outputs": []
    },
    {
      "cell_type": "code",
      "source": [
        "lst.pop()"
      ],
      "metadata": {
        "colab": {
          "base_uri": "https://localhost:8080/"
        },
        "id": "_vhL8OuzqlPw",
        "outputId": "67154b72-731d-4885-c11a-cbc3e10ff39d"
      },
      "execution_count": null,
      "outputs": [
        {
          "output_type": "execute_result",
          "data": {
            "text/plain": [
              "5"
            ]
          },
          "metadata": {},
          "execution_count": 33
        }
      ]
    },
    {
      "cell_type": "code",
      "source": [
        "lst"
      ],
      "metadata": {
        "colab": {
          "base_uri": "https://localhost:8080/"
        },
        "id": "hiQprPvHqnL5",
        "outputId": "bb865750-ece7-4695-badf-64efad4570be"
      },
      "execution_count": null,
      "outputs": [
        {
          "output_type": "execute_result",
          "data": {
            "text/plain": [
              "[1, 2, 3, 4]"
            ]
          },
          "metadata": {},
          "execution_count": 34
        }
      ]
    },
    {
      "cell_type": "code",
      "source": [
        "lst.extend(seq)"
      ],
      "metadata": {
        "id": "rbFD1Ps6qoew"
      },
      "execution_count": null,
      "outputs": []
    },
    {
      "cell_type": "code",
      "source": [
        "lst"
      ],
      "metadata": {
        "colab": {
          "base_uri": "https://localhost:8080/"
        },
        "id": "EQvpHZi9qsGU",
        "outputId": "78356886-0105-4c18-ab31-8da557ee72c1"
      },
      "execution_count": null,
      "outputs": [
        {
          "output_type": "execute_result",
          "data": {
            "text/plain": [
              "[1, 2, 3, 4, 1, 2, 3, 4, 5, 6, 7, 8]"
            ]
          },
          "metadata": {},
          "execution_count": 37
        }
      ]
    },
    {
      "cell_type": "code",
      "source": [
        "lst.append('new')"
      ],
      "metadata": {
        "id": "iQBjQXuzq25h"
      },
      "execution_count": null,
      "outputs": []
    },
    {
      "cell_type": "code",
      "source": [
        "lst"
      ],
      "metadata": {
        "colab": {
          "base_uri": "https://localhost:8080/"
        },
        "id": "hqn-sFPnrWFv",
        "outputId": "e54cafe1-6d7a-4352-c026-4a65ca10b6cc"
      },
      "execution_count": null,
      "outputs": [
        {
          "output_type": "execute_result",
          "data": {
            "text/plain": [
              "[1, 2, 3, 4, 1, 2, 3, 4, 5, 6, 7, 8, 'new']"
            ]
          },
          "metadata": {},
          "execution_count": 39
        }
      ]
    },
    {
      "cell_type": "code",
      "source": [
        "lst.pop(1) #passing index"
      ],
      "metadata": {
        "colab": {
          "base_uri": "https://localhost:8080/"
        },
        "id": "Rcx0yXltrWgw",
        "outputId": "8e0f5d98-cb93-413a-e8cc-99f44617a397"
      },
      "execution_count": null,
      "outputs": [
        {
          "output_type": "execute_result",
          "data": {
            "text/plain": [
              "3"
            ]
          },
          "metadata": {},
          "execution_count": 41
        }
      ]
    },
    {
      "cell_type": "code",
      "source": [
        "'x' in lst"
      ],
      "metadata": {
        "colab": {
          "base_uri": "https://localhost:8080/"
        },
        "id": "ADbLoQjIrczY",
        "outputId": "f351b28a-4e6d-44d0-8234-ef8d5abe0c25"
      },
      "execution_count": null,
      "outputs": [
        {
          "output_type": "execute_result",
          "data": {
            "text/plain": [
              "False"
            ]
          },
          "metadata": {},
          "execution_count": 42
        }
      ]
    },
    {
      "cell_type": "code",
      "source": [
        "1 in lst"
      ],
      "metadata": {
        "colab": {
          "base_uri": "https://localhost:8080/"
        },
        "id": "-f2SKyBRr3IK",
        "outputId": "5b4f5c3e-e1b6-46d3-a9bb-b9088c260e6f"
      },
      "execution_count": null,
      "outputs": [
        {
          "output_type": "execute_result",
          "data": {
            "text/plain": [
              "True"
            ]
          },
          "metadata": {},
          "execution_count": 43
        }
      ]
    },
    {
      "cell_type": "code",
      "source": [
        "#tuple unpacking\n",
        "x=[(1,2),(3,4),(5,6)]"
      ],
      "metadata": {
        "id": "FvyHTVpKr6BH"
      },
      "execution_count": null,
      "outputs": []
    },
    {
      "cell_type": "code",
      "source": [
        "for item in x:\n",
        "  print(item)"
      ],
      "metadata": {
        "colab": {
          "base_uri": "https://localhost:8080/"
        },
        "id": "D0dAZKgfsGbA",
        "outputId": "7c437c57-015a-404c-d92a-9e8798915c6c"
      },
      "execution_count": null,
      "outputs": [
        {
          "output_type": "stream",
          "name": "stdout",
          "text": [
            "(1, 2)\n",
            "(3, 4)\n",
            "(5, 6)\n"
          ]
        }
      ]
    },
    {
      "cell_type": "code",
      "source": [
        "for(a,b)in x:\n",
        "  print(a)\n",
        "  print(b)"
      ],
      "metadata": {
        "colab": {
          "base_uri": "https://localhost:8080/"
        },
        "id": "B8S5vJlysUdy",
        "outputId": "b374a322-24aa-4338-bd09-fa462a34b113"
      },
      "execution_count": null,
      "outputs": [
        {
          "output_type": "stream",
          "name": "stdout",
          "text": [
            "1\n",
            "2\n",
            "3\n",
            "4\n",
            "5\n",
            "6\n"
          ]
        }
      ]
    },
    {
      "cell_type": "markdown",
      "source": [
        "**Numpy  Linear Algebra library for pyhton  & Main Building block for data science libraries **\n",
        "Numpy is incredibly fast , as it has binding with C libraries\n",
        "Numpy comes with two flavors :\n",
        "1.   Vectors : 1d arrays\n",
        "2.   Matrices: 2d & can have 1 row n 1 clumn too\n",
        "\n"
      ],
      "metadata": {
        "id": "v7sWs30AamWT"
      }
    },
    {
      "cell_type": "markdown",
      "source": [
        "Numpy Arrays\n",
        "\n",
        "```\n",
        "# This is formatted as code\n",
        "```\n",
        "\n"
      ],
      "metadata": {
        "id": "9QkRr8m3cENu"
      }
    },
    {
      "cell_type": "code",
      "source": [
        " my_list=[1,2,3]"
      ],
      "metadata": {
        "id": "eeJT0bzbv8_W"
      },
      "execution_count": null,
      "outputs": []
    },
    {
      "cell_type": "code",
      "source": [],
      "metadata": {
        "id": "aM5Gx1pNv6Lf"
      },
      "execution_count": null,
      "outputs": []
    },
    {
      "cell_type": "code",
      "source": [
        "import numpy as np"
      ],
      "metadata": {
        "id": "49KN73eYfezx"
      },
      "execution_count": null,
      "outputs": []
    },
    {
      "cell_type": "code",
      "source": [
        "arr= np.array(my_list)"
      ],
      "metadata": {
        "id": "80hL1tJGfj8B"
      },
      "execution_count": null,
      "outputs": []
    },
    {
      "cell_type": "code",
      "source": [
        "mymat=[[1,2,3],[4,5,6],[7,8,9]]"
      ],
      "metadata": {
        "id": "thSKwOwSfoJv"
      },
      "execution_count": null,
      "outputs": []
    },
    {
      "cell_type": "code",
      "source": [
        "mat= np.array(mymat)"
      ],
      "metadata": {
        "id": "eN-mZkTuf4_S"
      },
      "execution_count": null,
      "outputs": []
    },
    {
      "cell_type": "code",
      "source": [
        "np.arange(0,11,2) # start end steps gives integers"
      ],
      "metadata": {
        "colab": {
          "base_uri": "https://localhost:8080/"
        },
        "id": "bLkrpn2uf8yQ",
        "outputId": "716ca3e9-bf6e-487c-c6f1-484cf981331d"
      },
      "execution_count": null,
      "outputs": [
        {
          "output_type": "execute_result",
          "data": {
            "text/plain": [
              "array([ 0,  2,  4,  6,  8, 10])"
            ]
          },
          "metadata": {},
          "execution_count": 11
        }
      ]
    },
    {
      "cell_type": "code",
      "source": [
        "np.zeros(3)"
      ],
      "metadata": {
        "colab": {
          "base_uri": "https://localhost:8080/"
        },
        "id": "4BAvuoDphU3J",
        "outputId": "ee9dca50-9cfe-42df-8876-eec2e1167ccf"
      },
      "execution_count": null,
      "outputs": [
        {
          "output_type": "execute_result",
          "data": {
            "text/plain": [
              "array([0., 0., 0.])"
            ]
          },
          "metadata": {},
          "execution_count": 13
        }
      ]
    },
    {
      "cell_type": "code",
      "source": [
        "np.zeros((2,3))"
      ],
      "metadata": {
        "colab": {
          "base_uri": "https://localhost:8080/"
        },
        "id": "AM4BbcvgiVvO",
        "outputId": "2e756124-cb67-4dbc-b4ca-8af16936287b"
      },
      "execution_count": null,
      "outputs": [
        {
          "output_type": "execute_result",
          "data": {
            "text/plain": [
              "array([[0., 0., 0.],\n",
              "       [0., 0., 0.]])"
            ]
          },
          "metadata": {},
          "execution_count": 14
        }
      ]
    },
    {
      "cell_type": "code",
      "source": [
        "np.ones((4,4))"
      ],
      "metadata": {
        "colab": {
          "base_uri": "https://localhost:8080/"
        },
        "id": "LSBh0lcSidHM",
        "outputId": "0cffa845-78ff-4ae1-b390-823da7798057"
      },
      "execution_count": null,
      "outputs": [
        {
          "output_type": "execute_result",
          "data": {
            "text/plain": [
              "array([[1., 1., 1., 1.],\n",
              "       [1., 1., 1., 1.],\n",
              "       [1., 1., 1., 1.],\n",
              "       [1., 1., 1., 1.]])"
            ]
          },
          "metadata": {},
          "execution_count": 16
        }
      ]
    },
    {
      "cell_type": "code",
      "source": [
        "#creating numerical sequence\n",
        "np.linspace(0,10,10)# start , end , numer of points requires"
      ],
      "metadata": {
        "colab": {
          "base_uri": "https://localhost:8080/"
        },
        "id": "o34vqg12i3dn",
        "outputId": "2085a467-dad5-4e7f-a42d-194eb9bf379a"
      },
      "execution_count": null,
      "outputs": [
        {
          "output_type": "execute_result",
          "data": {
            "text/plain": [
              "array([ 0.        ,  1.11111111,  2.22222222,  3.33333333,  4.44444444,\n",
              "        5.55555556,  6.66666667,  7.77777778,  8.88888889, 10.        ])"
            ]
          },
          "metadata": {},
          "execution_count": 25
        }
      ]
    },
    {
      "cell_type": "code",
      "source": [
        "np.eye(4)"
      ],
      "metadata": {
        "colab": {
          "base_uri": "https://localhost:8080/"
        },
        "id": "Z6818Jbejc3q",
        "outputId": "825afdad-62b5-4a70-8ad6-dbacc3795dc1"
      },
      "execution_count": null,
      "outputs": [
        {
          "output_type": "execute_result",
          "data": {
            "text/plain": [
              "array([[1., 0., 0., 0.],\n",
              "       [0., 1., 0., 0.],\n",
              "       [0., 0., 1., 0.],\n",
              "       [0., 0., 0., 1.]])"
            ]
          },
          "metadata": {},
          "execution_count": 26
        }
      ]
    },
    {
      "cell_type": "code",
      "source": [
        "np.random.rand(2)"
      ],
      "metadata": {
        "colab": {
          "base_uri": "https://localhost:8080/"
        },
        "id": "JJ25SKK9knk1",
        "outputId": "b56d7802-49c3-40b3-dd09-875648141915"
      },
      "execution_count": null,
      "outputs": [
        {
          "output_type": "execute_result",
          "data": {
            "text/plain": [
              "array([0.76316082, 0.44584924])"
            ]
          },
          "metadata": {},
          "execution_count": 29
        }
      ]
    },
    {
      "cell_type": "code",
      "source": [
        "np.random.rand(5,5)"
      ],
      "metadata": {
        "colab": {
          "base_uri": "https://localhost:8080/"
        },
        "id": "paQpNfKMkxld",
        "outputId": "79628cda-9798-415c-ecfe-b08785f6186d"
      },
      "execution_count": null,
      "outputs": [
        {
          "output_type": "execute_result",
          "data": {
            "text/plain": [
              "array([[0.68644951, 0.95095621, 0.45999523, 0.8644928 , 0.19692695],\n",
              "       [0.82973456, 0.42579745, 0.81467075, 0.32901661, 0.14577643],\n",
              "       [0.18323089, 0.0501133 , 0.34629295, 0.64708861, 0.65627267],\n",
              "       [0.9874344 , 0.12781292, 0.61942275, 0.62012413, 0.83022729],\n",
              "       [0.70058114, 0.0215483 , 0.02913241, 0.33324718, 0.3382281 ]])"
            ]
          },
          "metadata": {},
          "execution_count": 30
        }
      ]
    },
    {
      "cell_type": "code",
      "source": [
        "np.random.randn(2)"
      ],
      "metadata": {
        "colab": {
          "base_uri": "https://localhost:8080/"
        },
        "id": "_S2uXjPvk33g",
        "outputId": "d871a20f-a951-46da-c6e4-b385ef2caeba"
      },
      "execution_count": null,
      "outputs": [
        {
          "output_type": "execute_result",
          "data": {
            "text/plain": [
              "array([-2.7662751 ,  1.26480922])"
            ]
          },
          "metadata": {},
          "execution_count": 34
        }
      ]
    },
    {
      "cell_type": "code",
      "source": [
        "np.random.randint(1,100,10)"
      ],
      "metadata": {
        "colab": {
          "base_uri": "https://localhost:8080/"
        },
        "id": "VGUgKxUwk_pX",
        "outputId": "59aa8e79-9385-4e1e-bc76-800aac7ce3a7"
      },
      "execution_count": null,
      "outputs": [
        {
          "output_type": "execute_result",
          "data": {
            "text/plain": [
              "array([20, 77, 29, 67, 10,  7, 57, 93,  4, 73])"
            ]
          },
          "metadata": {},
          "execution_count": 38
        }
      ]
    },
    {
      "cell_type": "code",
      "source": [
        "ar=np.arange(25)"
      ],
      "metadata": {
        "id": "8-YOrt55lMJJ"
      },
      "execution_count": null,
      "outputs": []
    },
    {
      "cell_type": "code",
      "source": [
        "ranar=np.random.randint(0,50,10)"
      ],
      "metadata": {
        "id": "PFg4hVWvlVqs"
      },
      "execution_count": null,
      "outputs": []
    },
    {
      "cell_type": "code",
      "source": [
        "ar"
      ],
      "metadata": {
        "colab": {
          "base_uri": "https://localhost:8080/"
        },
        "id": "RuJUhqzllc0B",
        "outputId": "36d7d53e-2835-4132-9313-0f80263175b7"
      },
      "execution_count": null,
      "outputs": [
        {
          "output_type": "execute_result",
          "data": {
            "text/plain": [
              "array([ 0,  1,  2,  3,  4,  5,  6,  7,  8,  9, 10, 11, 12, 13, 14, 15, 16,\n",
              "       17, 18, 19, 20, 21, 22, 23, 24])"
            ]
          },
          "metadata": {},
          "execution_count": 41
        }
      ]
    },
    {
      "cell_type": "code",
      "source": [
        "ranar"
      ],
      "metadata": {
        "colab": {
          "base_uri": "https://localhost:8080/"
        },
        "id": "eZnIrjbAlfkH",
        "outputId": "bb32d002-3f9e-4123-ffa4-e0d9ae9f65c2"
      },
      "execution_count": null,
      "outputs": [
        {
          "output_type": "execute_result",
          "data": {
            "text/plain": [
              "array([25, 20, 12,  1, 42,  9, 45, 12,  8, 13])"
            ]
          },
          "metadata": {},
          "execution_count": 42
        }
      ]
    },
    {
      "cell_type": "code",
      "source": [
        "ar.reshape(5,5)"
      ],
      "metadata": {
        "colab": {
          "base_uri": "https://localhost:8080/"
        },
        "id": "kV6XokYilhbW",
        "outputId": "774f33a5-b28f-4658-d13d-e92f1253ee2e"
      },
      "execution_count": null,
      "outputs": [
        {
          "output_type": "execute_result",
          "data": {
            "text/plain": [
              "array([[ 0,  1,  2,  3,  4],\n",
              "       [ 5,  6,  7,  8,  9],\n",
              "       [10, 11, 12, 13, 14],\n",
              "       [15, 16, 17, 18, 19],\n",
              "       [20, 21, 22, 23, 24]])"
            ]
          },
          "metadata": {},
          "execution_count": 44
        }
      ]
    },
    {
      "cell_type": "code",
      "source": [
        "ranar.min()"
      ],
      "metadata": {
        "colab": {
          "base_uri": "https://localhost:8080/"
        },
        "id": "nPPdvA-wl4Qi",
        "outputId": "ce546218-7140-4dd4-d39a-c8303c0623fe"
      },
      "execution_count": null,
      "outputs": [
        {
          "output_type": "execute_result",
          "data": {
            "text/plain": [
              "1"
            ]
          },
          "metadata": {},
          "execution_count": 48
        }
      ]
    },
    {
      "cell_type": "code",
      "source": [
        "ranar.max()"
      ],
      "metadata": {
        "colab": {
          "base_uri": "https://localhost:8080/"
        },
        "id": "A5XxdRUmlnNt",
        "outputId": "c9a7e8dc-17d2-4dbf-a018-b297342f6ea8"
      },
      "execution_count": null,
      "outputs": [
        {
          "output_type": "execute_result",
          "data": {
            "text/plain": [
              "45"
            ]
          },
          "metadata": {},
          "execution_count": 47
        }
      ]
    },
    {
      "cell_type": "code",
      "source": [
        "# agrmax return index of maximum value\n",
        "ranar.argmax()"
      ],
      "metadata": {
        "colab": {
          "base_uri": "https://localhost:8080/"
        },
        "id": "5Uwo9Bfelz47",
        "outputId": "2cc8a37a-eacc-44ab-9daa-af13f3622d6d"
      },
      "execution_count": null,
      "outputs": [
        {
          "output_type": "execute_result",
          "data": {
            "text/plain": [
              "6"
            ]
          },
          "metadata": {},
          "execution_count": 49
        }
      ]
    },
    {
      "cell_type": "code",
      "source": [
        "ranar.argmin()"
      ],
      "metadata": {
        "colab": {
          "base_uri": "https://localhost:8080/"
        },
        "id": "zKsUrNdVmH1c",
        "outputId": "a2eb6263-7cf9-4792-92ef-6dfe0db11850"
      },
      "execution_count": null,
      "outputs": [
        {
          "output_type": "execute_result",
          "data": {
            "text/plain": [
              "3"
            ]
          },
          "metadata": {},
          "execution_count": 50
        }
      ]
    },
    {
      "cell_type": "code",
      "source": [
        "ar.shape"
      ],
      "metadata": {
        "colab": {
          "base_uri": "https://localhost:8080/"
        },
        "id": "1qUaAZQYmMZN",
        "outputId": "14c2b920-2b8f-4836-e565-4317c9c291df"
      },
      "execution_count": null,
      "outputs": [
        {
          "output_type": "execute_result",
          "data": {
            "text/plain": [
              "(25,)"
            ]
          },
          "metadata": {},
          "execution_count": 54
        }
      ]
    },
    {
      "cell_type": "code",
      "source": [
        "ranar.shape # return shape of aray \"call without ()"
      ],
      "metadata": {
        "colab": {
          "base_uri": "https://localhost:8080/"
        },
        "id": "o5VKeFNbmQ-N",
        "outputId": "a033a72c-b824-425f-b762-5cb9bc44aee9"
      },
      "execution_count": null,
      "outputs": [
        {
          "output_type": "execute_result",
          "data": {
            "text/plain": [
              "(10,)"
            ]
          },
          "metadata": {},
          "execution_count": 53
        }
      ]
    },
    {
      "cell_type": "code",
      "source": [
        "ar=ar.reshape(5,5)"
      ],
      "metadata": {
        "id": "AlnB2HBnmYxr"
      },
      "execution_count": null,
      "outputs": []
    },
    {
      "cell_type": "code",
      "source": [
        "ar.shape"
      ],
      "metadata": {
        "colab": {
          "base_uri": "https://localhost:8080/"
        },
        "id": "uaVeuDZBn4uh",
        "outputId": "369e9fe7-79dd-469f-80c3-e6cc3d0c49ba"
      },
      "execution_count": null,
      "outputs": [
        {
          "output_type": "execute_result",
          "data": {
            "text/plain": [
              "(5, 5)"
            ]
          },
          "metadata": {},
          "execution_count": 57
        }
      ]
    },
    {
      "cell_type": "code",
      "source": [
        "ar.dtype"
      ],
      "metadata": {
        "colab": {
          "base_uri": "https://localhost:8080/"
        },
        "id": "rVPoVKyxn-Ky",
        "outputId": "b42412b1-ea8b-4d12-80a3-2689f018c21e"
      },
      "execution_count": null,
      "outputs": [
        {
          "output_type": "execute_result",
          "data": {
            "text/plain": [
              "dtype('int64')"
            ]
          },
          "metadata": {},
          "execution_count": 58
        }
      ]
    },
    {
      "cell_type": "code",
      "source": [
        "from numpy.random import randint"
      ],
      "metadata": {
        "id": "I6SlBnwPoBXp"
      },
      "execution_count": null,
      "outputs": []
    },
    {
      "cell_type": "code",
      "source": [
        "randint(2,89)"
      ],
      "metadata": {
        "colab": {
          "base_uri": "https://localhost:8080/"
        },
        "id": "1jCQ4KTRoVCL",
        "outputId": "5abdaa49-0b7e-4e9d-bc8d-0d2d23a9cf67"
      },
      "execution_count": null,
      "outputs": [
        {
          "output_type": "execute_result",
          "data": {
            "text/plain": [
              "79"
            ]
          },
          "metadata": {},
          "execution_count": 60
        }
      ]
    },
    {
      "cell_type": "code",
      "source": [
        "# Indexing and Selection in Numpy"
      ],
      "metadata": {
        "id": "X1lKYB8roYaK"
      },
      "execution_count": null,
      "outputs": []
    },
    {
      "cell_type": "code",
      "source": [
        "ar=np.arange(0,11)"
      ],
      "metadata": {
        "id": "En6cvqfEq51G"
      },
      "execution_count": null,
      "outputs": []
    },
    {
      "cell_type": "code",
      "source": [
        "ar"
      ],
      "metadata": {
        "colab": {
          "base_uri": "https://localhost:8080/"
        },
        "id": "CosTVXbdrADW",
        "outputId": "5338bb5c-b254-446f-8deb-c9d2476569f7"
      },
      "execution_count": null,
      "outputs": [
        {
          "output_type": "execute_result",
          "data": {
            "text/plain": [
              "array([ 0,  1,  2,  3,  4,  5,  6,  7,  8,  9, 10])"
            ]
          },
          "metadata": {},
          "execution_count": 64
        }
      ]
    },
    {
      "cell_type": "code",
      "source": [
        "ar[-1]"
      ],
      "metadata": {
        "colab": {
          "base_uri": "https://localhost:8080/"
        },
        "id": "XZO23VvprDrR",
        "outputId": "0f3c1d11-672d-4e90-ecd5-5ce7ed946b61"
      },
      "execution_count": null,
      "outputs": [
        {
          "output_type": "execute_result",
          "data": {
            "text/plain": [
              "10"
            ]
          },
          "metadata": {},
          "execution_count": 65
        }
      ]
    },
    {
      "cell_type": "code",
      "source": [
        "ar[3:11]"
      ],
      "metadata": {
        "colab": {
          "base_uri": "https://localhost:8080/"
        },
        "id": "dSfYBnTFrFOM",
        "outputId": "7cf4a676-823d-4be1-aed1-2a577db641ea"
      },
      "execution_count": null,
      "outputs": [
        {
          "output_type": "execute_result",
          "data": {
            "text/plain": [
              "array([ 3,  4,  5,  6,  7,  8,  9, 10])"
            ]
          },
          "metadata": {},
          "execution_count": 66
        }
      ]
    },
    {
      "cell_type": "code",
      "source": [
        "ar[5:]"
      ],
      "metadata": {
        "colab": {
          "base_uri": "https://localhost:8080/"
        },
        "id": "k4Cy9cMdrIJP",
        "outputId": "4d7cea88-7556-4274-edbc-4dab12fee01d"
      },
      "execution_count": null,
      "outputs": [
        {
          "output_type": "execute_result",
          "data": {
            "text/plain": [
              "array([ 5,  6,  7,  8,  9, 10])"
            ]
          },
          "metadata": {},
          "execution_count": 69
        }
      ]
    },
    {
      "cell_type": "code",
      "source": [
        "ar[:7]"
      ],
      "metadata": {
        "colab": {
          "base_uri": "https://localhost:8080/"
        },
        "id": "un8Gm4nJrTAl",
        "outputId": "f854b03a-485f-40cf-b9df-2bec89f544af"
      },
      "execution_count": null,
      "outputs": [
        {
          "output_type": "execute_result",
          "data": {
            "text/plain": [
              "array([0, 1, 2, 3, 4, 5, 6])"
            ]
          },
          "metadata": {},
          "execution_count": 70
        }
      ]
    },
    {
      "cell_type": "code",
      "source": [
        "# numpy array cAN BROADCAST\n",
        "ar_slice =ar[0:5]"
      ],
      "metadata": {
        "id": "0_SLVJTerX7I"
      },
      "execution_count": null,
      "outputs": []
    },
    {
      "cell_type": "code",
      "source": [
        "ar_slice"
      ],
      "metadata": {
        "colab": {
          "base_uri": "https://localhost:8080/"
        },
        "id": "JW4Mys_Xrd9q",
        "outputId": "c11d239c-f9a4-4906-f496-74820ea00b69"
      },
      "execution_count": null,
      "outputs": [
        {
          "output_type": "execute_result",
          "data": {
            "text/plain": [
              "array([0, 1, 2, 3, 4])"
            ]
          },
          "metadata": {},
          "execution_count": 78
        }
      ]
    },
    {
      "cell_type": "code",
      "source": [
        "ar_slice[:]= 89"
      ],
      "metadata": {
        "id": "ildZcXDhr62W"
      },
      "execution_count": null,
      "outputs": []
    },
    {
      "cell_type": "code",
      "source": [
        "ar_slice"
      ],
      "metadata": {
        "colab": {
          "base_uri": "https://localhost:8080/"
        },
        "id": "-_zyenbXsa_y",
        "outputId": "ef2e4721-9691-4a25-e4a6-3483d592d952"
      },
      "execution_count": null,
      "outputs": [
        {
          "output_type": "execute_result",
          "data": {
            "text/plain": [
              "array([89, 89, 89, 89, 89])"
            ]
          },
          "metadata": {},
          "execution_count": 80
        }
      ]
    },
    {
      "cell_type": "code",
      "source": [
        "ar\n",
        "# here changes are reflected in original array\n",
        "# but we made changes in ar_slice\n",
        "# Because ar_slice is just slice view of original Array actual address is ar only\n",
        "# numpy provide reference to original array only\n"
      ],
      "metadata": {
        "colab": {
          "base_uri": "https://localhost:8080/"
        },
        "id": "WOHkroWhscrT",
        "outputId": "1ee74422-5d19-4ca8-dbb7-80a744493b0d"
      },
      "execution_count": null,
      "outputs": [
        {
          "output_type": "execute_result",
          "data": {
            "text/plain": [
              "array([89, 89, 89, 89, 89,  5,  6,  7,  8,  9, 10])"
            ]
          },
          "metadata": {},
          "execution_count": 82
        }
      ]
    },
    {
      "cell_type": "code",
      "source": [
        "# if user need copy of array then explicitly need to mention\n",
        "ar_copy =ar.copy()"
      ],
      "metadata": {
        "id": "xthqHdkwseFg"
      },
      "execution_count": null,
      "outputs": []
    },
    {
      "cell_type": "code",
      "source": [
        "ar_copy"
      ],
      "metadata": {
        "colab": {
          "base_uri": "https://localhost:8080/"
        },
        "id": "nxolFUBjwa-Y",
        "outputId": "05fce477-c43a-4d51-f788-98434118b669"
      },
      "execution_count": null,
      "outputs": [
        {
          "output_type": "execute_result",
          "data": {
            "text/plain": [
              "array([89, 89, 89, 89, 89,  5,  6,  7,  8,  9, 10])"
            ]
          },
          "metadata": {},
          "execution_count": 85
        }
      ]
    },
    {
      "cell_type": "code",
      "source": [
        "# now making changes to ar_copy will not be reflected in array\n",
        "ar_copy[:]=90"
      ],
      "metadata": {
        "id": "BwpC4p0BwmoW"
      },
      "execution_count": null,
      "outputs": []
    },
    {
      "cell_type": "code",
      "source": [
        "ar_copy"
      ],
      "metadata": {
        "colab": {
          "base_uri": "https://localhost:8080/"
        },
        "id": "e1fgWmIlvuox",
        "outputId": "0645ebdd-a28c-40f1-d095-e09acdead740"
      },
      "execution_count": null,
      "outputs": [
        {
          "output_type": "execute_result",
          "data": {
            "text/plain": [
              "array([90, 90, 90, 90, 90, 90, 90, 90, 90, 90, 90])"
            ]
          },
          "metadata": {},
          "execution_count": 10
        }
      ]
    },
    {
      "cell_type": "markdown",
      "source": [
        "Here original ar is same and changes  reflected in ar_copy bcoz explicitly mentioned .copy() function\n",
        "\n",
        "\n",
        "But  just assigning a slice of array to another variable will pass reference of that slice to var and ---any changes in variable slice will be reflected in original too bcoz of reference"
      ],
      "metadata": {
        "id": "1RP1xG1KwMLv"
      }
    },
    {
      "cell_type": "code",
      "source": [
        "ar"
      ],
      "metadata": {
        "colab": {
          "base_uri": "https://localhost:8080/"
        },
        "id": "34s70Zz7w1pk",
        "outputId": "688a10bd-79b0-4d16-e2fb-5d91e6333768"
      },
      "execution_count": null,
      "outputs": [
        {
          "output_type": "execute_result",
          "data": {
            "text/plain": [
              "array([ 0,  1,  2,  3,  4,  5,  6,  7,  8,  9, 10])"
            ]
          },
          "metadata": {},
          "execution_count": 11
        }
      ]
    },
    {
      "cell_type": "markdown",
      "source": [
        "Indexing in 2d Array / Matrix"
      ],
      "metadata": {
        "id": "1Cv7xESgwKsd"
      }
    },
    {
      "cell_type": "code",
      "source": [
        "import numpy as np"
      ],
      "metadata": {
        "id": "GmxLiW0M2n46"
      },
      "execution_count": null,
      "outputs": []
    },
    {
      "cell_type": "code",
      "source": [
        "arr_2d= np.array([[1,2,3,4],[5,6,7,8],[9,10,11,12]])"
      ],
      "metadata": {
        "id": "VrluAnkYxH1o"
      },
      "execution_count": null,
      "outputs": []
    },
    {
      "cell_type": "code",
      "source": [
        "arr_2d"
      ],
      "metadata": {
        "colab": {
          "base_uri": "https://localhost:8080/"
        },
        "id": "oTvof5o1xV_L",
        "outputId": "e58889e6-1b8d-4dc7-aeb4-2e19e826e4d5"
      },
      "execution_count": null,
      "outputs": [
        {
          "output_type": "execute_result",
          "data": {
            "text/plain": [
              "array([[ 1,  2,  3,  4],\n",
              "       [ 5,  6,  7,  8],\n",
              "       [ 9, 10, 11, 12]])"
            ]
          },
          "metadata": {},
          "execution_count": 14
        }
      ]
    },
    {
      "cell_type": "code",
      "source": [
        "arr_2d[0]"
      ],
      "metadata": {
        "colab": {
          "base_uri": "https://localhost:8080/"
        },
        "id": "e2TprkS_xVC0",
        "outputId": "d024c918-00cb-4995-defe-e36803a2ef68"
      },
      "execution_count": null,
      "outputs": [
        {
          "output_type": "execute_result",
          "data": {
            "text/plain": [
              "array([1, 2, 3, 4])"
            ]
          },
          "metadata": {},
          "execution_count": 16
        }
      ]
    },
    {
      "cell_type": "code",
      "source": [
        "arr_2d[1][1]"
      ],
      "metadata": {
        "colab": {
          "base_uri": "https://localhost:8080/"
        },
        "id": "ilg3VcDJxhvI",
        "outputId": "8334232a-351c-411b-a617-cc267201db8f"
      },
      "execution_count": null,
      "outputs": [
        {
          "output_type": "execute_result",
          "data": {
            "text/plain": [
              "6"
            ]
          },
          "metadata": {},
          "execution_count": 18
        }
      ]
    },
    {
      "cell_type": "code",
      "source": [
        "arr_2d[1,1]"
      ],
      "metadata": {
        "colab": {
          "base_uri": "https://localhost:8080/"
        },
        "id": "Lod_5FOxxqaD",
        "outputId": "71b80ce2-f31b-446d-f604-eb7884f926ad"
      },
      "execution_count": null,
      "outputs": [
        {
          "output_type": "execute_result",
          "data": {
            "text/plain": [
              "6"
            ]
          },
          "metadata": {},
          "execution_count": 19
        }
      ]
    },
    {
      "cell_type": "code",
      "source": [
        "arr_2d[:2,1:]"
      ],
      "metadata": {
        "colab": {
          "base_uri": "https://localhost:8080/"
        },
        "id": "tKmHc2vvx94I",
        "outputId": "a7875db5-cfce-46ad-edf1-7a8348e12819"
      },
      "execution_count": null,
      "outputs": [
        {
          "output_type": "execute_result",
          "data": {
            "text/plain": [
              "array([[2, 3, 4],\n",
              "       [6, 7, 8]])"
            ]
          },
          "metadata": {},
          "execution_count": 20
        }
      ]
    },
    {
      "cell_type": "code",
      "source": [
        "import numpy as np"
      ],
      "metadata": {
        "id": "NZGkIghPyI9u"
      },
      "execution_count": 1,
      "outputs": []
    },
    {
      "cell_type": "code",
      "source": [
        "ar=np.arange(1,11)"
      ],
      "metadata": {
        "id": "YoK17Eq2o4kV"
      },
      "execution_count": 2,
      "outputs": []
    },
    {
      "cell_type": "code",
      "source": [
        "ar"
      ],
      "metadata": {
        "colab": {
          "base_uri": "https://localhost:8080/"
        },
        "id": "7Ie920KCpAU3",
        "outputId": "1c6b50e2-6610-43a5-efe2-d499ed23f439"
      },
      "execution_count": 3,
      "outputs": [
        {
          "output_type": "execute_result",
          "data": {
            "text/plain": [
              "array([ 1,  2,  3,  4,  5,  6,  7,  8,  9, 10])"
            ]
          },
          "metadata": {},
          "execution_count": 3
        }
      ]
    },
    {
      "cell_type": "code",
      "source": [
        "ar_boolean= ar>3"
      ],
      "metadata": {
        "id": "M2498A6KpCYu"
      },
      "execution_count": 4,
      "outputs": []
    },
    {
      "cell_type": "code",
      "source": [
        "ar_boolean"
      ],
      "metadata": {
        "colab": {
          "base_uri": "https://localhost:8080/"
        },
        "id": "SGiK-ZGSpGOg",
        "outputId": "f23aeb36-7e55-4ae4-e9d3-98e1f20de3eb"
      },
      "execution_count": 5,
      "outputs": [
        {
          "output_type": "execute_result",
          "data": {
            "text/plain": [
              "array([False, False, False,  True,  True,  True,  True,  True,  True,\n",
              "        True])"
            ]
          },
          "metadata": {},
          "execution_count": 5
        }
      ]
    },
    {
      "cell_type": "code",
      "source": [
        "ar[ar_boolean] # conditional selection"
      ],
      "metadata": {
        "colab": {
          "base_uri": "https://localhost:8080/"
        },
        "id": "N7oKOgpxpIWn",
        "outputId": "cb884ac6-5a28-43ac-be0f-cd19c6c3e17c"
      },
      "execution_count": 6,
      "outputs": [
        {
          "output_type": "execute_result",
          "data": {
            "text/plain": [
              "array([ 4,  5,  6,  7,  8,  9, 10])"
            ]
          },
          "metadata": {},
          "execution_count": 6
        }
      ]
    },
    {
      "cell_type": "code",
      "source": [
        "ar[ar>5] #conditional Selection"
      ],
      "metadata": {
        "colab": {
          "base_uri": "https://localhost:8080/"
        },
        "id": "3shUjNmdpSe9",
        "outputId": "dcde3895-f389-41fb-f137-fd34b925f375"
      },
      "execution_count": 7,
      "outputs": [
        {
          "output_type": "execute_result",
          "data": {
            "text/plain": [
              "array([ 6,  7,  8,  9, 10])"
            ]
          },
          "metadata": {},
          "execution_count": 7
        }
      ]
    },
    {
      "cell_type": "code",
      "source": [
        "arr_2d=np.arange(50).reshape(5,10)"
      ],
      "metadata": {
        "id": "hnNoEI7ypbJO"
      },
      "execution_count": 8,
      "outputs": []
    },
    {
      "cell_type": "code",
      "source": [
        "arr_2d[:]"
      ],
      "metadata": {
        "colab": {
          "base_uri": "https://localhost:8080/"
        },
        "id": "sFh9Cq0Kp0eI",
        "outputId": "7e273aae-59fb-48d8-d6ee-83c528eff46e"
      },
      "execution_count": 10,
      "outputs": [
        {
          "output_type": "execute_result",
          "data": {
            "text/plain": [
              "array([[ 0,  1,  2,  3,  4,  5,  6,  7,  8,  9],\n",
              "       [10, 11, 12, 13, 14, 15, 16, 17, 18, 19],\n",
              "       [20, 21, 22, 23, 24, 25, 26, 27, 28, 29],\n",
              "       [30, 31, 32, 33, 34, 35, 36, 37, 38, 39],\n",
              "       [40, 41, 42, 43, 44, 45, 46, 47, 48, 49]])"
            ]
          },
          "metadata": {},
          "execution_count": 10
        }
      ]
    },
    {
      "cell_type": "code",
      "source": [],
      "metadata": {
        "id": "ldRtlUWSp4hT"
      },
      "execution_count": 11,
      "outputs": []
    },
    {
      "cell_type": "markdown",
      "source": [
        "Numpy Operations\n",
        "Array with Array\n",
        "Array with Scalers\n",
        "Universal Array Function"
      ],
      "metadata": {
        "id": "P5Sl2FT_qmIN"
      }
    },
    {
      "cell_type": "code",
      "source": [
        "arr_2d+ arr_2d"
      ],
      "metadata": {
        "colab": {
          "base_uri": "https://localhost:8080/"
        },
        "id": "edfWJrgFqiRG",
        "outputId": "a3eef508-3a7a-439f-bacd-bcd827d0a88c"
      },
      "execution_count": 12,
      "outputs": [
        {
          "output_type": "execute_result",
          "data": {
            "text/plain": [
              "array([[ 0,  2,  4,  6,  8, 10, 12, 14, 16, 18],\n",
              "       [20, 22, 24, 26, 28, 30, 32, 34, 36, 38],\n",
              "       [40, 42, 44, 46, 48, 50, 52, 54, 56, 58],\n",
              "       [60, 62, 64, 66, 68, 70, 72, 74, 76, 78],\n",
              "       [80, 82, 84, 86, 88, 90, 92, 94, 96, 98]])"
            ]
          },
          "metadata": {},
          "execution_count": 12
        }
      ]
    },
    {
      "cell_type": "code",
      "source": [
        "arr_2d - 3"
      ],
      "metadata": {
        "colab": {
          "base_uri": "https://localhost:8080/"
        },
        "id": "YO87aDYI5H6P",
        "outputId": "b7497142-4abe-4501-bd10-58bd4a110bf8"
      },
      "execution_count": 13,
      "outputs": [
        {
          "output_type": "execute_result",
          "data": {
            "text/plain": [
              "array([[-3, -2, -1,  0,  1,  2,  3,  4,  5,  6],\n",
              "       [ 7,  8,  9, 10, 11, 12, 13, 14, 15, 16],\n",
              "       [17, 18, 19, 20, 21, 22, 23, 24, 25, 26],\n",
              "       [27, 28, 29, 30, 31, 32, 33, 34, 35, 36],\n",
              "       [37, 38, 39, 40, 41, 42, 43, 44, 45, 46]])"
            ]
          },
          "metadata": {},
          "execution_count": 13
        }
      ]
    },
    {
      "cell_type": "code",
      "source": [
        "arr_2d*arr_2d"
      ],
      "metadata": {
        "colab": {
          "base_uri": "https://localhost:8080/"
        },
        "id": "H0axBwni5VRC",
        "outputId": "434d1f52-0c5a-4baf-8ce7-c98c1a63181f"
      },
      "execution_count": 14,
      "outputs": [
        {
          "output_type": "execute_result",
          "data": {
            "text/plain": [
              "array([[   0,    1,    4,    9,   16,   25,   36,   49,   64,   81],\n",
              "       [ 100,  121,  144,  169,  196,  225,  256,  289,  324,  361],\n",
              "       [ 400,  441,  484,  529,  576,  625,  676,  729,  784,  841],\n",
              "       [ 900,  961, 1024, 1089, 1156, 1225, 1296, 1369, 1444, 1521],\n",
              "       [1600, 1681, 1764, 1849, 1936, 2025, 2116, 2209, 2304, 2401]])"
            ]
          },
          "metadata": {},
          "execution_count": 14
        }
      ]
    },
    {
      "cell_type": "code",
      "source": [],
      "metadata": {
        "colab": {
          "base_uri": "https://localhost:8080/"
        },
        "id": "OES6WT3x5dPl",
        "outputId": "367a6e0a-0b5f-4e12-83aa-0ff66b58fb81"
      },
      "execution_count": 16,
      "outputs": [
        {
          "output_type": "execute_result",
          "data": {
            "text/plain": [
              "array([101, 102, 103, 104, 105, 106, 107, 108, 109, 110])"
            ]
          },
          "metadata": {},
          "execution_count": 16
        }
      ]
    },
    {
      "cell_type": "code",
      "source": [],
      "metadata": {
        "id": "9lTfG0nk6H7n"
      },
      "execution_count": null,
      "outputs": []
    },
    {
      "cell_type": "code",
      "source": [],
      "metadata": {
        "id": "fI3i995k5m8l"
      },
      "execution_count": null,
      "outputs": []
    },
    {
      "cell_type": "markdown",
      "source": [
        "#Scaler Operation\n",
        "Means broadcast a number to every element in array"
      ],
      "metadata": {
        "id": "fiXIDRJ75rZa"
      }
    },
    {
      "cell_type": "code",
      "source": [
        "ar+100"
      ],
      "metadata": {
        "colab": {
          "base_uri": "https://localhost:8080/"
        },
        "id": "jG8QZ16Y6Ik-",
        "outputId": "43cdd0af-9d61-4670-d961-f3bc7d2eaf0e"
      },
      "execution_count": 17,
      "outputs": [
        {
          "output_type": "execute_result",
          "data": {
            "text/plain": [
              "array([101, 102, 103, 104, 105, 106, 107, 108, 109, 110])"
            ]
          },
          "metadata": {},
          "execution_count": 17
        }
      ]
    },
    {
      "cell_type": "code",
      "source": [
        "ar-20"
      ],
      "metadata": {
        "colab": {
          "base_uri": "https://localhost:8080/"
        },
        "id": "lG9ch2uY6I96",
        "outputId": "857e1a19-e954-4d7e-ceac-0f6a9f857747"
      },
      "execution_count": 18,
      "outputs": [
        {
          "output_type": "execute_result",
          "data": {
            "text/plain": [
              "array([-19, -18, -17, -16, -15, -14, -13, -12, -11, -10])"
            ]
          },
          "metadata": {},
          "execution_count": 18
        }
      ]
    },
    {
      "cell_type": "code",
      "source": [
        "1/0"
      ],
      "metadata": {
        "colab": {
          "base_uri": "https://localhost:8080/",
          "height": 179
        },
        "id": "36cXUSTk6LEZ",
        "outputId": "7530cd7a-9983-4127-f006-8525b7a33543"
      },
      "execution_count": 19,
      "outputs": [
        {
          "output_type": "error",
          "ename": "ZeroDivisionError",
          "evalue": "ignored",
          "traceback": [
            "\u001b[0;31m---------------------------------------------------------------------------\u001b[0m",
            "\u001b[0;31mZeroDivisionError\u001b[0m                         Traceback (most recent call last)",
            "\u001b[0;32m<ipython-input-19-9e1622b385b6>\u001b[0m in \u001b[0;36m<cell line: 1>\u001b[0;34m()\u001b[0m\n\u001b[0;32m----> 1\u001b[0;31m \u001b[0;36m1\u001b[0m\u001b[0;34m/\u001b[0m\u001b[0;36m0\u001b[0m\u001b[0;34m\u001b[0m\u001b[0;34m\u001b[0m\u001b[0m\n\u001b[0m",
            "\u001b[0;31mZeroDivisionError\u001b[0m: division by zero"
          ]
        }
      ]
    },
    {
      "cell_type": "code",
      "source": [
        "ar/0\n",
        "# inf means infinity divided by zero"
      ],
      "metadata": {
        "colab": {
          "base_uri": "https://localhost:8080/"
        },
        "id": "u2zJq60H6QDr",
        "outputId": "f009f83f-5022-4ef5-b73c-39a397a02232"
      },
      "execution_count": 20,
      "outputs": [
        {
          "output_type": "stream",
          "name": "stderr",
          "text": [
            "<ipython-input-20-05262bbed824>:1: RuntimeWarning: divide by zero encountered in divide\n",
            "  ar/0\n"
          ]
        },
        {
          "output_type": "execute_result",
          "data": {
            "text/plain": [
              "array([inf, inf, inf, inf, inf, inf, inf, inf, inf, inf])"
            ]
          },
          "metadata": {},
          "execution_count": 20
        }
      ]
    },
    {
      "cell_type": "code",
      "source": [
        "ar/ar"
      ],
      "metadata": {
        "colab": {
          "base_uri": "https://localhost:8080/"
        },
        "id": "hIzw8Qr_6WVz",
        "outputId": "0ddc4401-0eae-425c-b085-a3f99f19a6b3"
      },
      "execution_count": 21,
      "outputs": [
        {
          "output_type": "execute_result",
          "data": {
            "text/plain": [
              "array([1., 1., 1., 1., 1., 1., 1., 1., 1., 1.])"
            ]
          },
          "metadata": {},
          "execution_count": 21
        }
      ]
    },
    {
      "cell_type": "code",
      "source": [
        "ar**2"
      ],
      "metadata": {
        "colab": {
          "base_uri": "https://localhost:8080/"
        },
        "id": "gNmA2fy46Z9J",
        "outputId": "eb7bace1-06c9-4092-9b4a-544133988b28"
      },
      "execution_count": 24,
      "outputs": [
        {
          "output_type": "execute_result",
          "data": {
            "text/plain": [
              "array([  1,   4,   9,  16,  25,  36,  49,  64,  81, 100])"
            ]
          },
          "metadata": {},
          "execution_count": 24
        }
      ]
    },
    {
      "cell_type": "code",
      "source": [
        "# universal array functions"
      ],
      "metadata": {
        "id": "JQglBtDM6d6j"
      },
      "execution_count": 25,
      "outputs": []
    },
    {
      "cell_type": "code",
      "source": [
        "np.sqrt(ar)"
      ],
      "metadata": {
        "colab": {
          "base_uri": "https://localhost:8080/"
        },
        "id": "hg5ygFRf6txs",
        "outputId": "3eb7bb92-1e31-4276-8733-9ac33955fae4"
      },
      "execution_count": 26,
      "outputs": [
        {
          "output_type": "execute_result",
          "data": {
            "text/plain": [
              "array([1.        , 1.41421356, 1.73205081, 2.        , 2.23606798,\n",
              "       2.44948974, 2.64575131, 2.82842712, 3.        , 3.16227766])"
            ]
          },
          "metadata": {},
          "execution_count": 26
        }
      ]
    },
    {
      "cell_type": "code",
      "source": [
        "np.exp(ar)"
      ],
      "metadata": {
        "colab": {
          "base_uri": "https://localhost:8080/"
        },
        "id": "dIA20I_e6vpx",
        "outputId": "700ea3c4-afd8-4626-85b3-356424a55762"
      },
      "execution_count": 28,
      "outputs": [
        {
          "output_type": "execute_result",
          "data": {
            "text/plain": [
              "array([2.71828183e+00, 7.38905610e+00, 2.00855369e+01, 5.45981500e+01,\n",
              "       1.48413159e+02, 4.03428793e+02, 1.09663316e+03, 2.98095799e+03,\n",
              "       8.10308393e+03, 2.20264658e+04])"
            ]
          },
          "metadata": {},
          "execution_count": 28
        }
      ]
    },
    {
      "cell_type": "code",
      "source": [
        "np.max(ar)"
      ],
      "metadata": {
        "colab": {
          "base_uri": "https://localhost:8080/"
        },
        "id": "oQbLfzOS60zD",
        "outputId": "a69355fa-729f-4ddc-e485-c5dfffa81158"
      },
      "execution_count": 29,
      "outputs": [
        {
          "output_type": "execute_result",
          "data": {
            "text/plain": [
              "10"
            ]
          },
          "metadata": {},
          "execution_count": 29
        }
      ]
    },
    {
      "cell_type": "code",
      "source": [
        "np.sin(ar)"
      ],
      "metadata": {
        "colab": {
          "base_uri": "https://localhost:8080/"
        },
        "id": "wVGJsrEU64Qj",
        "outputId": "954ea9f6-73ea-4208-fd9b-9bed074e2452"
      },
      "execution_count": 31,
      "outputs": [
        {
          "output_type": "execute_result",
          "data": {
            "text/plain": [
              "array([ 0.84147098,  0.90929743,  0.14112001, -0.7568025 , -0.95892427,\n",
              "       -0.2794155 ,  0.6569866 ,  0.98935825,  0.41211849, -0.54402111])"
            ]
          },
          "metadata": {},
          "execution_count": 31
        }
      ]
    },
    {
      "cell_type": "code",
      "source": [
        "np.log(ar)"
      ],
      "metadata": {
        "colab": {
          "base_uri": "https://localhost:8080/"
        },
        "id": "dw8HGQwo69cf",
        "outputId": "cb788343-1519-4018-bead-32fd339789a1"
      },
      "execution_count": 33,
      "outputs": [
        {
          "output_type": "execute_result",
          "data": {
            "text/plain": [
              "array([0.        , 0.69314718, 1.09861229, 1.38629436, 1.60943791,\n",
              "       1.79175947, 1.94591015, 2.07944154, 2.19722458, 2.30258509])"
            ]
          },
          "metadata": {},
          "execution_count": 33
        }
      ]
    },
    {
      "cell_type": "code",
      "source": [],
      "metadata": {
        "id": "Qx3YsYqB7B94"
      },
      "execution_count": null,
      "outputs": []
    }
  ]
}